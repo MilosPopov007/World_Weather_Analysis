{
 "cells": [
  {
   "cell_type": "code",
   "execution_count": 1,
   "id": "17f0a2f2",
   "metadata": {},
   "outputs": [],
   "source": [
    "# Import the dependencies.\n",
    "import pandas as pd\n",
    "import matplotlib.pyplot as plt\n",
    "import numpy as np\n"
   ]
  },
  {
   "cell_type": "code",
   "execution_count": 2,
   "id": "a39378cd",
   "metadata": {},
   "outputs": [],
   "source": [
    "# The zip object packs each pair of lats and lngs having the same index in their respective array into a tuple.\n",
    "# If there are 1,500 latitudes and longitudes, there will be 1,500 tuples of paired latitudes and longitudes,\n",
    "# where each latitude and longitude in a tuple can be accessed by the index of 0 and 1, respectively.\n",
    "\n",
    "# Create a practice set of random latitude and longitude combinations.\n",
    "lats = [25.12903645, 25.92017388, 26.62509167, -59.98969384, 37.30571269]\n",
    "lngs = [-67.59741259, 11.09532135, 74.84233102, -76.89176677, -61.13376282]\n",
    "lat_lngs = zip(lats, lngs)"
   ]
  },
  {
   "cell_type": "code",
   "execution_count": 3,
   "id": "6037d134",
   "metadata": {},
   "outputs": [],
   "source": [
    "# Next, let's unpack our lat_lngs zip object into a list\n",
    "\n",
    "# Add the latitudes and longitudes to a list.\n",
    "coordinates = list(lat_lngs)"
   ]
  },
  {
   "cell_type": "code",
   "execution_count": 4,
   "id": "e23b7385",
   "metadata": {},
   "outputs": [
    {
     "name": "stdout",
     "output_type": "stream",
     "text": [
      "25.12903645 -67.59741259\n",
      "25.92017388 11.09532135\n",
      "26.62509167 74.84233102\n",
      "-59.98969384 -76.89176677\n",
      "37.30571269 -61.13376282\n"
     ]
    }
   ],
   "source": [
    "# You can only unzip a zipped tuple once before it is removed from the computer's memory\n",
    "\n",
    "# Use the print() function to display the latitude and longitude combinations.\n",
    "for coordinate in coordinates:\n",
    "    print(coordinate[0], coordinate[1])\n",
    "\n"
   ]
  },
  {
   "cell_type": "code",
   "execution_count": 5,
   "id": "6c78a975",
   "metadata": {},
   "outputs": [],
   "source": [
    "# Use the citipy module to determine city based on latitude and longitude.\n",
    "from citipy import citipy"
   ]
  },
  {
   "cell_type": "code",
   "execution_count": 6,
   "id": "300d8d92",
   "metadata": {},
   "outputs": [
    {
     "name": "stdout",
     "output_type": "stream",
     "text": [
      "cockburn town tc\n",
      "gat ly\n",
      "parvatsar in\n",
      "punta arenas cl\n",
      "saint george bm\n"
     ]
    }
   ],
   "source": [
    "# Use the print() function to display the latitude and longitude combinations.\n",
    "# Next, use the five pairs of latitudes and longitudes we used from our zip practice\n",
    "# to get a city and country code from the citipy module.\n",
    "\n",
    "# Iterate through the coordinates' unzipped tuple.\n",
    "# Use citipy.nearest_city() and inside the parentheses of nearest_city(),\n",
    "# add the latitude and longitude in this format: coordinate[0], coordinate[1]\n",
    "# To print the city name, chain the city_name to the nearest_city() function.\n",
    "# To print the country name, chain the country_code to the nearest_city() function.\n",
    "\n",
    "\n",
    "\n",
    "for coordinate in coordinates:\n",
    "    print(citipy.nearest_city(coordinate[0], coordinate[1]).city_name,\n",
    "          citipy.nearest_city(coordinate[0], coordinate[1]).country_code)"
   ]
  },
  {
   "cell_type": "code",
   "execution_count": 7,
   "id": "75dc9a47",
   "metadata": {},
   "outputs": [],
   "source": [
    "# Import the requests library.\n",
    "import requests\n",
    "\n",
    "# Import the API key.\n",
    "from config import weather_api_key"
   ]
  },
  {
   "cell_type": "code",
   "execution_count": 8,
   "id": "c803358c",
   "metadata": {},
   "outputs": [
    {
     "name": "stdout",
     "output_type": "stream",
     "text": [
      "http://api.openweathermap.org/data/2.5/weather?units=Imperial&APPID=9c8c1f9665576918462aa67eb56b7634\n"
     ]
    }
   ],
   "source": [
    "# Starting URL for Weather Map API Call.\n",
    "url = \"http://api.openweathermap.org/data/2.5/weather?units=Imperial&APPID=\" + weather_api_key\n",
    "print(url)"
   ]
  },
  {
   "cell_type": "code",
   "execution_count": 9,
   "id": "83f60da5",
   "metadata": {},
   "outputs": [
    {
     "name": "stdout",
     "output_type": "stream",
     "text": [
      "http://api.openweathermap.org/data/2.5/weather?units=Imperial&APPID=9c8c1f9665576918462aa67eb56b7634&q=Boston\n"
     ]
    }
   ],
   "source": [
    "# Create an endpoint URL for a city.\n",
    "city_url = url + \"&q=\" + \"Boston\"\n",
    "print(city_url)\n",
    "# In the code, we are creating a string to get the weather data for Boston by using the city_url.\n",
    "# To create the city_url we add the parameter, &q= and \"Boston\" to the url."
   ]
  },
  {
   "cell_type": "code",
   "execution_count": 10,
   "id": "08f3cf47",
   "metadata": {},
   "outputs": [
    {
     "data": {
      "text/plain": [
       "<Response [200]>"
      ]
     },
     "execution_count": 10,
     "metadata": {},
     "output_type": "execute_result"
    }
   ],
   "source": [
    "# Make a 'Get' request for the city weather.\n",
    "city_weather = requests.get(city_url)\n",
    "city_weather\n",
    "# You can directly call the response code with the get() method using the status_code. \n",
    "# If we chain the status_code to the city_weather variable, we get 200 as the output.\n",
    "# city_weather.status_code\n"
   ]
  },
  {
   "cell_type": "code",
   "execution_count": 11,
   "id": "401eae25",
   "metadata": {},
   "outputs": [
    {
     "data": {
      "text/plain": [
       "<Response [404]>"
      ]
     },
     "execution_count": 11,
     "metadata": {},
     "output_type": "execute_result"
    }
   ],
   "source": [
    "# If we tried to get weather data from an unrecognized city, or if the weather data for a city wasn't available,\n",
    "# we would get a 404 response.\n",
    "# Let's see what would happen if we misspelled a city name—\"Bston\" instead of \"Boston.\"\n",
    "\n",
    "# Create an endpoint URL for a city.\n",
    "city_url = url + \"&q=\" + \"Bston\"\n",
    "city_weather = requests.get(city_url)\n",
    "city_weather\n"
   ]
  },
  {
   "cell_type": "code",
   "execution_count": 12,
   "id": "69dc16f1",
   "metadata": {},
   "outputs": [
    {
     "data": {
      "text/plain": [
       "<Response [200]>"
      ]
     },
     "execution_count": 12,
     "metadata": {},
     "output_type": "execute_result"
    }
   ],
   "source": [
    "# Get Data from a Response\n",
    "# Now, we'll see what happens when we get a valid response.\n",
    "# Create an endpoint URL for a city.\n",
    "city_url = url + \"&q=\" + \"Boston\"\n",
    "city_weather = requests.get(city_url)\n",
    "city_weather\n",
    "\n"
   ]
  },
  {
   "cell_type": "code",
   "execution_count": 13,
   "id": "36916ad5",
   "metadata": {},
   "outputs": [
    {
     "data": {
      "text/plain": [
       "'{\"coord\":{\"lon\":-71.0598,\"lat\":42.3584},\"weather\":[{\"id\":801,\"main\":\"Clouds\",\"description\":\"few clouds\",\"icon\":\"02d\"}],\"base\":\"stations\",\"main\":{\"temp\":42.21,\"feels_like\":30.85,\"temp_min\":39.83,\"temp_max\":44.71,\"pressure\":1013,\"humidity\":54},\"visibility\":10000,\"wind\":{\"speed\":34,\"deg\":0,\"gust\":37},\"clouds\":{\"all\":20},\"dt\":1669473784,\"sys\":{\"type\":2,\"id\":2013408,\"country\":\"US\",\"sunrise\":1669463305,\"sunset\":1669497304},\"timezone\":-18000,\"id\":4930956,\"name\":\"Boston\",\"cod\":200}'"
      ]
     },
     "execution_count": 13,
     "metadata": {},
     "output_type": "execute_result"
    }
   ],
   "source": [
    "# One format that provides a preview of the JSON data is the text attribute.\n",
    "# Let's get the content for the Boston weather data using the following code.\n",
    "# Get the text of the 'Get' request.\n",
    "\n",
    "city_weather.text\n"
   ]
  },
  {
   "cell_type": "code",
   "execution_count": 14,
   "id": "fbcb12a1",
   "metadata": {},
   "outputs": [
    {
     "data": {
      "text/plain": [
       "{'coord': {'lon': -71.0598, 'lat': 42.3584},\n",
       " 'weather': [{'id': 801,\n",
       "   'main': 'Clouds',\n",
       "   'description': 'few clouds',\n",
       "   'icon': '02d'}],\n",
       " 'base': 'stations',\n",
       " 'main': {'temp': 42.21,\n",
       "  'feels_like': 30.85,\n",
       "  'temp_min': 39.83,\n",
       "  'temp_max': 44.71,\n",
       "  'pressure': 1013,\n",
       "  'humidity': 54},\n",
       " 'visibility': 10000,\n",
       " 'wind': {'speed': 34, 'deg': 0, 'gust': 37},\n",
       " 'clouds': {'all': 20},\n",
       " 'dt': 1669473784,\n",
       " 'sys': {'type': 2,\n",
       "  'id': 2013408,\n",
       "  'country': 'US',\n",
       "  'sunrise': 1669463305,\n",
       "  'sunset': 1669497304},\n",
       " 'timezone': -18000,\n",
       " 'id': 4930956,\n",
       " 'name': 'Boston',\n",
       " 'cod': 200}"
      ]
     },
     "execution_count": 14,
     "metadata": {},
     "output_type": "execute_result"
    }
   ],
   "source": [
    "# Let's use the json() attribute with our response and run the cell.\n",
    "\n",
    "# Get the JSON text of the 'Get' request.\n",
    "city_weather.json()"
   ]
  },
  {
   "cell_type": "code",
   "execution_count": 15,
   "id": "d3007634",
   "metadata": {},
   "outputs": [
    {
     "name": "stdout",
     "output_type": "stream",
     "text": [
      "City Weather found.\n"
     ]
    }
   ],
   "source": [
    "# Handle Request Errors # \n",
    "# When we submit a get request for the city_weather, we want to make sure that we get a valid response, i.e., 200,\n",
    "# If it is, then we can print out a statement that says the weather data was found.\n",
    "# If there is a response other than 200, we can print out a statement that says the weather was not found\n",
    "\n",
    "# Create an endpoint URL for a city.\n",
    "city_url = url + \"&q=\" + \"Boston\"\n",
    "city_weather = requests.get(city_url)\n",
    "if city_weather.status_code == 200:\n",
    "    print(f\"City Weather found.\")\n",
    "else:\n",
    "    print(f\"City weather not found.\")"
   ]
  },
  {
   "cell_type": "code",
   "execution_count": 16,
   "id": "5fb6b8c2",
   "metadata": {},
   "outputs": [
    {
     "name": "stdout",
     "output_type": "stream",
     "text": [
      "City weather not found.\n"
     ]
    }
   ],
   "source": [
    "# Create an endpoint URL for a city.\n",
    "city_url = url + \"&q=\" + \"Bston\"\n",
    "city_weather = requests.get(city_url)\n",
    "if city_weather.status_code == 200:\n",
    "    print(f\"City Weather found.\")\n",
    "else:\n",
    "    print(f\"City weather not found.\")"
   ]
  },
  {
   "cell_type": "code",
   "execution_count": 17,
   "id": "03db6574",
   "metadata": {},
   "outputs": [],
   "source": [
    "# If the status_code is something other than 200, JSON data will always be returned in the request.\n",
    "# We can determine if the response was successful by checking the status_code, clicking the URL,\n",
    "# or retrieving specific information from the JSON data.\n",
    "\n",
    "\n"
   ]
  },
  {
   "cell_type": "code",
   "execution_count": 18,
   "id": "ba28f065",
   "metadata": {},
   "outputs": [
    {
     "name": "stdout",
     "output_type": "stream",
     "text": [
      "http://api.openweathermap.org/data/2.5/weather?units=Imperial&APPID=9c8c1f9665576918462aa67eb56b7634&q=Bston\n"
     ]
    }
   ],
   "source": [
    "print(city_url) "
   ]
  },
  {
   "cell_type": "code",
   "execution_count": 19,
   "id": "7e720063",
   "metadata": {},
   "outputs": [
    {
     "data": {
      "text/plain": [
       "{'coord': {'lon': -71.0598, 'lat': 42.3584},\n",
       " 'weather': [{'id': 801,\n",
       "   'main': 'Clouds',\n",
       "   'description': 'few clouds',\n",
       "   'icon': '02d'}],\n",
       " 'base': 'stations',\n",
       " 'main': {'temp': 42.21,\n",
       "  'feels_like': 30.85,\n",
       "  'temp_min': 39.83,\n",
       "  'temp_max': 44.71,\n",
       "  'pressure': 1013,\n",
       "  'humidity': 54},\n",
       " 'visibility': 10000,\n",
       " 'wind': {'speed': 34, 'deg': 0, 'gust': 37},\n",
       " 'clouds': {'all': 20},\n",
       " 'dt': 1669473784,\n",
       " 'sys': {'type': 2,\n",
       "  'id': 2013408,\n",
       "  'country': 'US',\n",
       "  'sunrise': 1669463305,\n",
       "  'sunset': 1669497304},\n",
       " 'timezone': -18000,\n",
       " 'id': 4930956,\n",
       " 'name': 'Boston',\n",
       " 'cod': 200}"
      ]
     },
     "execution_count": 19,
     "metadata": {},
     "output_type": "execute_result"
    }
   ],
   "source": [
    "# Create an endpoint URL for a city.\n",
    "city_url = url + \"&q=\" + \"Boston\"\n",
    "city_weather = requests.get(city_url)\n",
    "city_weather.json()"
   ]
  },
  {
   "cell_type": "code",
   "execution_count": 20,
   "id": "299dc0c3",
   "metadata": {},
   "outputs": [],
   "source": [
    "# let's get something simple, like the country code from the JSON formatted data,\n",
    "# which is in a nested dictionary where the first dictionary starts with sys\n",
    "# let's assign a variable to the city_weather.json() data to the variable \"boston_data\" and run the cell.\n",
    "\n",
    "# Get the JSON data.\n",
    "boston_data = city_weather.json()"
   ]
  },
  {
   "cell_type": "code",
   "execution_count": 21,
   "id": "71375cb5",
   "metadata": {},
   "outputs": [
    {
     "data": {
      "text/plain": [
       "{'type': 2,\n",
       " 'id': 2013408,\n",
       " 'country': 'US',\n",
       " 'sunrise': 1669463305,\n",
       " 'sunset': 1669497304}"
      ]
     },
     "execution_count": 21,
     "metadata": {},
     "output_type": "execute_result"
    }
   ],
   "source": [
    "# Next, using the sys key to get the corresponding value, we type boston_data['sys'] in a new cell and run the cell.\n",
    "boston_data['sys']"
   ]
  },
  {
   "cell_type": "code",
   "execution_count": 22,
   "id": "041c126b",
   "metadata": {},
   "outputs": [
    {
     "data": {
      "text/plain": [
       "'US'"
      ]
     },
     "execution_count": 22,
     "metadata": {},
     "output_type": "execute_result"
    }
   ],
   "source": [
    "# If we add the country key in brackets after the sys key, and run the cell again, ‘US’ will be returned in the output.\n",
    "boston_data['sys']['country']"
   ]
  },
  {
   "cell_type": "code",
   "execution_count": 23,
   "id": "c9c91e62",
   "metadata": {},
   "outputs": [
    {
     "data": {
      "text/plain": [
       "1669473784"
      ]
     },
     "execution_count": 23,
     "metadata": {},
     "output_type": "execute_result"
    }
   ],
   "source": [
    "# If we want to retrieve the date in the weather data, we would add the dt key to the boston_data variable like this\n",
    "boston_data[\"dt\"]"
   ]
  },
  {
   "cell_type": "code",
   "execution_count": 24,
   "id": "61eaaba1",
   "metadata": {},
   "outputs": [
    {
     "name": "stdout",
     "output_type": "stream",
     "text": [
      "42.3584 -71.0598 44.71 54 20 34\n"
     ]
    }
   ],
   "source": [
    "# Using similar syntax to get the time of day, we can get :\n",
    "\n",
    "lat = boston_data[\"coord\"][\"lat\"]\n",
    "lng = boston_data[\"coord\"][\"lon\"]\n",
    "max_temp = boston_data[\"main\"][\"temp_max\"]\n",
    "humidity = boston_data[\"main\"][\"humidity\"]\n",
    "clouds = boston_data[\"clouds\"][\"all\"]\n",
    "wind = boston_data[\"wind\"][\"speed\"]\n",
    "print(lat, lng, max_temp, humidity, clouds, wind)"
   ]
  },
  {
   "cell_type": "code",
   "execution_count": 25,
   "id": "8cf5198d",
   "metadata": {},
   "outputs": [
    {
     "data": {
      "text/plain": [
       "datetime.datetime(2022, 11, 26, 14, 43, 4)"
      ]
     },
     "execution_count": 25,
     "metadata": {},
     "output_type": "execute_result"
    }
   ],
   "source": [
    "# Convert the Date Timestamp\n",
    "\n",
    "# we need to use the Python datetime module.\n",
    "# Import the datetime module from the datetime library.\n",
    "from datetime import datetime\n",
    "# Get the date from the JSON file.\n",
    "date = boston_data[\"dt\"]\n",
    "# Convert the UTC date to a date format with year, month, day, hours, minutes, and seconds.\n",
    "datetime.utcfromtimestamp(date)"
   ]
  },
  {
   "cell_type": "code",
   "execution_count": 26,
   "id": "7cde439b",
   "metadata": {},
   "outputs": [
    {
     "data": {
      "text/plain": [
       "'2022-11-26 14:43:04'"
      ]
     },
     "execution_count": 26,
     "metadata": {},
     "output_type": "execute_result"
    }
   ],
   "source": [
    "# We can convert this datetime format to 2019-10-21 17:24:35 using the Python string format method strftime()\n",
    "\n",
    "datetime.utcfromtimestamp(date).strftime('%Y-%m-%d %H:%M:%S')"
   ]
  },
  {
   "cell_type": "code",
   "execution_count": null,
   "id": "b2cc37a5",
   "metadata": {},
   "outputs": [],
   "source": []
  }
 ],
 "metadata": {
  "kernelspec": {
   "display_name": "PythonData",
   "language": "python",
   "name": "pythondata"
  },
  "language_info": {
   "codemirror_mode": {
    "name": "ipython",
    "version": 3
   },
   "file_extension": ".py",
   "mimetype": "text/x-python",
   "name": "python",
   "nbconvert_exporter": "python",
   "pygments_lexer": "ipython3",
   "version": "3.9.12"
  }
 },
 "nbformat": 4,
 "nbformat_minor": 5
}
