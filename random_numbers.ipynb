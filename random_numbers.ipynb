{
 "cells": [
  {
   "cell_type": "code",
   "execution_count": 1,
   "id": "3d5a1f3b",
   "metadata": {},
   "outputs": [],
   "source": [
    "# Import the random module.\n",
    "import random"
   ]
  },
  {
   "cell_type": "code",
   "execution_count": 2,
   "id": "e7370086",
   "metadata": {},
   "outputs": [
    {
     "data": {
      "text/plain": [
       "<bound method Random.randint of <random.Random object at 0x000001A8EE0D8D60>>"
      ]
     },
     "execution_count": 2,
     "metadata": {},
     "output_type": "execute_result"
    }
   ],
   "source": [
    "random.randint"
   ]
  },
  {
   "cell_type": "code",
   "execution_count": 3,
   "id": "3bd8999c",
   "metadata": {},
   "outputs": [
    {
     "data": {
      "text/plain": [
       "88"
      ]
     },
     "execution_count": 3,
     "metadata": {},
     "output_type": "execute_result"
    }
   ],
   "source": [
    "random.randint(-90, 90)"
   ]
  },
  {
   "cell_type": "code",
   "execution_count": 6,
   "id": "70a731a7",
   "metadata": {},
   "outputs": [
    {
     "data": {
      "text/plain": [
       "0.04680648649576724"
      ]
     },
     "execution_count": 6,
     "metadata": {},
     "output_type": "execute_result"
    }
   ],
   "source": [
    "random.random()"
   ]
  },
  {
   "cell_type": "code",
   "execution_count": 10,
   "id": "fa678ebf",
   "metadata": {},
   "outputs": [],
   "source": [
    "x = 1\n",
    "latitudes = []\n",
    "while x < 11:\n",
    "    random_lat = random.randint(-90, 89) + random.random()\n",
    "    latitudes.append(random_lat)\n",
    "    x += 1\n",
    "    \n",
    "    # Assign the variable x to 1\n",
    "    # Initialize an empty list, latitudes\n",
    "    # We create a while loop where we generate a random latitude and add it to the list\n",
    "    # After the random latitude is added to the list we add one to the variable \"x\"\n",
    "    # The while loop condition is checked again and will continue to run as long as x is less than 11"
   ]
  },
  {
   "cell_type": "code",
   "execution_count": 14,
   "id": "f8169fd1",
   "metadata": {},
   "outputs": [
    {
     "data": {
      "text/plain": [
       "40"
      ]
     },
     "execution_count": 14,
     "metadata": {},
     "output_type": "execute_result"
    }
   ],
   "source": [
    "# Next, we would have to use a similar method to get random longitudes between –180 and 180,\n",
    "# which we can then pair with the latitudes\n",
    "\n",
    "# The randrange() Function\n",
    "# For the randrange() function, there is an option to add a step parameter and set it equal to an integer,\n",
    "# which will generate increments of a given integer value, from the lower to the upper limit.\n",
    "\n",
    "random.randrange (-90, 90, step=1)"
   ]
  },
  {
   "cell_type": "code",
   "execution_count": 15,
   "id": "2d67ac22",
   "metadata": {},
   "outputs": [
    {
     "data": {
      "text/plain": [
       "-87"
      ]
     },
     "execution_count": 15,
     "metadata": {},
     "output_type": "execute_result"
    }
   ],
   "source": [
    "# The output is a number between -90 and 90, where the difference between each number in the sequence is 3\n",
    "random.randrange(-90, 90, step=3)"
   ]
  },
  {
   "cell_type": "code",
   "execution_count": 27,
   "id": "6767b6ef",
   "metadata": {},
   "outputs": [
    {
     "data": {
      "text/plain": [
       "11.624851215975184"
      ]
     },
     "execution_count": 27,
     "metadata": {},
     "output_type": "execute_result"
    }
   ],
   "source": [
    "# The uniform() Function\n",
    "\n",
    "# The uniform() function will allow us to generate a floating-point decimal number\n",
    "# between two given numbers inside the parentheses.\n",
    "\n",
    "random.uniform(-90, 90)"
   ]
  },
  {
   "cell_type": "code",
   "execution_count": 28,
   "id": "07533ee9",
   "metadata": {},
   "outputs": [],
   "source": [
    "# One way to generate more than a thousand latitudes and longitudes \n",
    "# s to chain the NumPy module to the random module to create an array of latitudes or longitudes\n",
    "# between the lowest and highest values\n",
    "#  or -90° and 90°, and –180° and 180°, respectively\n",
    "\n",
    "# NumPy module is a numerical mathematics library that can be used to make arrays or matrices of numbers #\n",
    "# Import the NumPy module.\n",
    "\n",
    "import numpy as np"
   ]
  },
  {
   "cell_type": "code",
   "execution_count": 30,
   "id": "dec0e1b4",
   "metadata": {},
   "outputs": [
    {
     "data": {
      "text/plain": [
       "-75.91491236113475"
      ]
     },
     "execution_count": 30,
     "metadata": {},
     "output_type": "execute_result"
    }
   ],
   "source": [
    " # The NumPy module has a built-in random module, and supplements the built-in Python random module\n",
    " np.random.uniform (-90.000, 90.000) \n",
    "        #  Adding the zeros past the decimal places is optional.\n",
    "# np.random.uniform(low=-90, high=90).      "
   ]
  },
  {
   "cell_type": "code",
   "execution_count": 32,
   "id": "c7e557d6",
   "metadata": {},
   "outputs": [
    {
     "data": {
      "text/plain": [
       "array([ 89.9313048 ,   6.88327806,  63.38159731,  59.63827745,\n",
       "        74.4694037 ,   6.1278322 ,  72.40350337,  64.35136784,\n",
       "       -46.40036392,  18.85415394, -44.68144898, -79.05231458,\n",
       "       -13.52698938,  75.00009414,  -6.14531325, -57.02845764,\n",
       "        38.43563769, -70.38934951, -17.56749331,  -8.77617538,\n",
       "       -42.0115599 , -73.40685319, -25.91232745,  85.91730818,\n",
       "        56.1046958 , -25.96390185,  72.91352065,  -0.62889333,\n",
       "       -45.53886409, -73.65483299,   6.59195506,  68.86796466,\n",
       "        74.293196  ,  88.92167871, -85.80563148, -46.82641724,\n",
       "         0.99647575, -50.14047163, -70.52911195, -66.41492289,\n",
       "       -76.01365418,   1.04329378,  75.09846154, -17.10079271,\n",
       "        32.20695462,  18.23185037,  44.89514535,  33.8741335 ,\n",
       "        -6.39738261,  25.82534067])"
      ]
     },
     "execution_count": 32,
     "metadata": {},
     "output_type": "execute_result"
    }
   ],
   "source": [
    "# To generate more than one floating-point decimal number between -90 and 90,\n",
    "# we can add the size parameter when we use the NumPy module and set that equal to any whole number.\n",
    "np.random.uniform(-90.000, 90.000, size=50)"
   ]
  },
  {
   "cell_type": "code",
   "execution_count": 33,
   "id": "9b259a09",
   "metadata": {},
   "outputs": [],
   "source": [
    "#  Let's test this for a size of 1,500.\n",
    "\n",
    "# To test how long a piece of code or function takes to run,\n",
    "# we can import the \"timeit\" module and use the %timeit magic command when we run our code or call the function.\n",
    "# Import timeit.\n",
    "\n",
    "import timeit"
   ]
  },
  {
   "cell_type": "code",
   "execution_count": 35,
   "id": "4ebeebbd",
   "metadata": {},
   "outputs": [
    {
     "name": "stdout",
     "output_type": "stream",
     "text": [
      "23.9 µs ± 227 ns per loop (mean ± std. dev. of 7 runs, 10,000 loops each)\n"
     ]
    }
   ],
   "source": [
    "%timeit np.random.uniform(-90.000, 90.000, size=1500)"
   ]
  },
  {
   "cell_type": "code",
   "execution_count": 37,
   "id": "c4904114",
   "metadata": {},
   "outputs": [
    {
     "name": "stdout",
     "output_type": "stream",
     "text": [
      "2.42 ms ± 31.4 µs per loop (mean ± std. dev. of 7 runs, 100 loops each)\n"
     ]
    }
   ],
   "source": [
    "# The output is the amount of time it took to run this code, which is an average of  microseconds\n",
    "\n",
    "# Now, let's run the while loop as a function\n",
    "\n",
    "def latitudes(size):\n",
    "    latitudes = []\n",
    "    x = 0\n",
    "    while x < (size):\n",
    "        random_lat = random.randint(-90, 90) + random.random()\n",
    "        latitudes.append(random_lat)\n",
    "        x += 1\n",
    "    return latitudes\n",
    "# Call the function with 1500.\n",
    "%timeit latitudes(1500)\n",
    "\n",
    "# Using the np.random.uniform(-90.000, 90.000, size=1500) is 100 times faster than using the function,\n",
    "# and our code is one line, whereas the function uses eight lines!"
   ]
  },
  {
   "cell_type": "code",
   "execution_count": null,
   "id": "4fe15b4d",
   "metadata": {},
   "outputs": [],
   "source": []
  }
 ],
 "metadata": {
  "kernelspec": {
   "display_name": "PythonData",
   "language": "python",
   "name": "pythondata"
  },
  "language_info": {
   "codemirror_mode": {
    "name": "ipython",
    "version": 3
   },
   "file_extension": ".py",
   "mimetype": "text/x-python",
   "name": "python",
   "nbconvert_exporter": "python",
   "pygments_lexer": "ipython3",
   "version": "3.9.12"
  }
 },
 "nbformat": 4,
 "nbformat_minor": 5
}
